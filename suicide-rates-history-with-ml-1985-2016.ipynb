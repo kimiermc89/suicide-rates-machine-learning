{
 "cells": [
  {
   "cell_type": "markdown",
   "id": "younger-withdrawal",
   "metadata": {
    "papermill": {
     "duration": 0.029464,
     "end_time": "2021-06-07T07:30:58.002382",
     "exception": false,
     "start_time": "2021-06-07T07:30:57.972918",
     "status": "completed"
    },
    "tags": []
   },
   "source": [
    "Today we are gonna explore something that are very interesting.\n",
    "\n",
    "It is related to our life and we need to know a pattern of suicide and why people keep doing it.\n",
    "\n",
    "Hope by using this Suicide dataset, we can find something useful and hope it will help us to prevent suicide to become major problem in our places.\n",
    "\n",
    "We start with reading dataset. \n",
    "\n",
    "# Please be patient and enjoy my insight finding."
   ]
  },
  {
   "cell_type": "code",
   "execution_count": 1,
   "id": "compressed-continuity",
   "metadata": {
    "execution": {
     "iopub.execute_input": "2021-06-07T07:30:58.071304Z",
     "iopub.status.busy": "2021-06-07T07:30:58.070636Z",
     "iopub.status.idle": "2021-06-07T07:30:58.893753Z",
     "shell.execute_reply": "2021-06-07T07:30:58.893098Z",
     "shell.execute_reply.started": "2021-06-07T07:03:24.058586Z"
    },
    "papermill": {
     "duration": 0.863064,
     "end_time": "2021-06-07T07:30:58.893949",
     "exception": false,
     "start_time": "2021-06-07T07:30:58.030885",
     "status": "completed"
    },
    "tags": []
   },
   "outputs": [
    {
     "name": "stdout",
     "output_type": "stream",
     "text": [
      "Setup Complete\n"
     ]
    }
   ],
   "source": [
    "# we start with finding and read this suicide dataset\n",
    "\n",
    "import pandas as pd\n",
    "pd.plotting.register_matplotlib_converters()\n",
    "import matplotlib.pyplot as plt\n",
    "%matplotlib inline\n",
    "import seaborn as sns\n",
    "print(\"Setup Complete\")"
   ]
  },
  {
   "cell_type": "code",
   "execution_count": 2,
   "id": "weighted-soviet",
   "metadata": {
    "execution": {
     "iopub.execute_input": "2021-06-07T07:30:58.956445Z",
     "iopub.status.busy": "2021-06-07T07:30:58.955791Z",
     "iopub.status.idle": "2021-06-07T07:30:59.062511Z",
     "shell.execute_reply": "2021-06-07T07:30:59.061950Z",
     "shell.execute_reply.started": "2021-06-07T07:03:24.081550Z"
    },
    "papermill": {
     "duration": 0.139825,
     "end_time": "2021-06-07T07:30:59.062753",
     "exception": false,
     "start_time": "2021-06-07T07:30:58.922928",
     "status": "completed"
    },
    "tags": []
   },
   "outputs": [],
   "source": [
    "# Path of the file to read\n",
    "suicide_filepath = \"../input/suicide-rates-overview-1985-to-2016/master.csv\"\n",
    "\n",
    "# Read the file into a variable fifa_data\n",
    "suicide_data = pd.read_csv(suicide_filepath)"
   ]
  },
  {
   "cell_type": "code",
   "execution_count": 3,
   "id": "romantic-maldives",
   "metadata": {
    "execution": {
     "iopub.execute_input": "2021-06-07T07:30:59.139778Z",
     "iopub.status.busy": "2021-06-07T07:30:59.139013Z",
     "iopub.status.idle": "2021-06-07T07:30:59.177833Z",
     "shell.execute_reply": "2021-06-07T07:30:59.177201Z",
     "shell.execute_reply.started": "2021-06-07T07:03:24.158310Z"
    },
    "papermill": {
     "duration": 0.085892,
     "end_time": "2021-06-07T07:30:59.177974",
     "exception": false,
     "start_time": "2021-06-07T07:30:59.092082",
     "status": "completed"
    },
    "tags": []
   },
   "outputs": [
    {
     "data": {
      "text/html": [
       "<div>\n",
       "<style scoped>\n",
       "    .dataframe tbody tr th:only-of-type {\n",
       "        vertical-align: middle;\n",
       "    }\n",
       "\n",
       "    .dataframe tbody tr th {\n",
       "        vertical-align: top;\n",
       "    }\n",
       "\n",
       "    .dataframe thead th {\n",
       "        text-align: right;\n",
       "    }\n",
       "</style>\n",
       "<table border=\"1\" class=\"dataframe\">\n",
       "  <thead>\n",
       "    <tr style=\"text-align: right;\">\n",
       "      <th></th>\n",
       "      <th>country</th>\n",
       "      <th>year</th>\n",
       "      <th>sex</th>\n",
       "      <th>age</th>\n",
       "      <th>suicides_no</th>\n",
       "      <th>population</th>\n",
       "      <th>suicides/100k pop</th>\n",
       "      <th>country-year</th>\n",
       "      <th>HDI for year</th>\n",
       "      <th>gdp_for_year ($)</th>\n",
       "      <th>gdp_per_capita ($)</th>\n",
       "      <th>generation</th>\n",
       "    </tr>\n",
       "  </thead>\n",
       "  <tbody>\n",
       "    <tr>\n",
       "      <th>0</th>\n",
       "      <td>Albania</td>\n",
       "      <td>1987</td>\n",
       "      <td>male</td>\n",
       "      <td>15-24 years</td>\n",
       "      <td>21</td>\n",
       "      <td>312900</td>\n",
       "      <td>6.71</td>\n",
       "      <td>Albania1987</td>\n",
       "      <td>NaN</td>\n",
       "      <td>2,156,624,900</td>\n",
       "      <td>796</td>\n",
       "      <td>Generation X</td>\n",
       "    </tr>\n",
       "    <tr>\n",
       "      <th>1</th>\n",
       "      <td>Albania</td>\n",
       "      <td>1987</td>\n",
       "      <td>male</td>\n",
       "      <td>35-54 years</td>\n",
       "      <td>16</td>\n",
       "      <td>308000</td>\n",
       "      <td>5.19</td>\n",
       "      <td>Albania1987</td>\n",
       "      <td>NaN</td>\n",
       "      <td>2,156,624,900</td>\n",
       "      <td>796</td>\n",
       "      <td>Silent</td>\n",
       "    </tr>\n",
       "    <tr>\n",
       "      <th>2</th>\n",
       "      <td>Albania</td>\n",
       "      <td>1987</td>\n",
       "      <td>female</td>\n",
       "      <td>15-24 years</td>\n",
       "      <td>14</td>\n",
       "      <td>289700</td>\n",
       "      <td>4.83</td>\n",
       "      <td>Albania1987</td>\n",
       "      <td>NaN</td>\n",
       "      <td>2,156,624,900</td>\n",
       "      <td>796</td>\n",
       "      <td>Generation X</td>\n",
       "    </tr>\n",
       "    <tr>\n",
       "      <th>3</th>\n",
       "      <td>Albania</td>\n",
       "      <td>1987</td>\n",
       "      <td>male</td>\n",
       "      <td>75+ years</td>\n",
       "      <td>1</td>\n",
       "      <td>21800</td>\n",
       "      <td>4.59</td>\n",
       "      <td>Albania1987</td>\n",
       "      <td>NaN</td>\n",
       "      <td>2,156,624,900</td>\n",
       "      <td>796</td>\n",
       "      <td>G.I. Generation</td>\n",
       "    </tr>\n",
       "    <tr>\n",
       "      <th>4</th>\n",
       "      <td>Albania</td>\n",
       "      <td>1987</td>\n",
       "      <td>male</td>\n",
       "      <td>25-34 years</td>\n",
       "      <td>9</td>\n",
       "      <td>274300</td>\n",
       "      <td>3.28</td>\n",
       "      <td>Albania1987</td>\n",
       "      <td>NaN</td>\n",
       "      <td>2,156,624,900</td>\n",
       "      <td>796</td>\n",
       "      <td>Boomers</td>\n",
       "    </tr>\n",
       "    <tr>\n",
       "      <th>...</th>\n",
       "      <td>...</td>\n",
       "      <td>...</td>\n",
       "      <td>...</td>\n",
       "      <td>...</td>\n",
       "      <td>...</td>\n",
       "      <td>...</td>\n",
       "      <td>...</td>\n",
       "      <td>...</td>\n",
       "      <td>...</td>\n",
       "      <td>...</td>\n",
       "      <td>...</td>\n",
       "      <td>...</td>\n",
       "    </tr>\n",
       "    <tr>\n",
       "      <th>27815</th>\n",
       "      <td>Uzbekistan</td>\n",
       "      <td>2014</td>\n",
       "      <td>female</td>\n",
       "      <td>35-54 years</td>\n",
       "      <td>107</td>\n",
       "      <td>3620833</td>\n",
       "      <td>2.96</td>\n",
       "      <td>Uzbekistan2014</td>\n",
       "      <td>0.675</td>\n",
       "      <td>63,067,077,179</td>\n",
       "      <td>2309</td>\n",
       "      <td>Generation X</td>\n",
       "    </tr>\n",
       "    <tr>\n",
       "      <th>27816</th>\n",
       "      <td>Uzbekistan</td>\n",
       "      <td>2014</td>\n",
       "      <td>female</td>\n",
       "      <td>75+ years</td>\n",
       "      <td>9</td>\n",
       "      <td>348465</td>\n",
       "      <td>2.58</td>\n",
       "      <td>Uzbekistan2014</td>\n",
       "      <td>0.675</td>\n",
       "      <td>63,067,077,179</td>\n",
       "      <td>2309</td>\n",
       "      <td>Silent</td>\n",
       "    </tr>\n",
       "    <tr>\n",
       "      <th>27817</th>\n",
       "      <td>Uzbekistan</td>\n",
       "      <td>2014</td>\n",
       "      <td>male</td>\n",
       "      <td>5-14 years</td>\n",
       "      <td>60</td>\n",
       "      <td>2762158</td>\n",
       "      <td>2.17</td>\n",
       "      <td>Uzbekistan2014</td>\n",
       "      <td>0.675</td>\n",
       "      <td>63,067,077,179</td>\n",
       "      <td>2309</td>\n",
       "      <td>Generation Z</td>\n",
       "    </tr>\n",
       "    <tr>\n",
       "      <th>27818</th>\n",
       "      <td>Uzbekistan</td>\n",
       "      <td>2014</td>\n",
       "      <td>female</td>\n",
       "      <td>5-14 years</td>\n",
       "      <td>44</td>\n",
       "      <td>2631600</td>\n",
       "      <td>1.67</td>\n",
       "      <td>Uzbekistan2014</td>\n",
       "      <td>0.675</td>\n",
       "      <td>63,067,077,179</td>\n",
       "      <td>2309</td>\n",
       "      <td>Generation Z</td>\n",
       "    </tr>\n",
       "    <tr>\n",
       "      <th>27819</th>\n",
       "      <td>Uzbekistan</td>\n",
       "      <td>2014</td>\n",
       "      <td>female</td>\n",
       "      <td>55-74 years</td>\n",
       "      <td>21</td>\n",
       "      <td>1438935</td>\n",
       "      <td>1.46</td>\n",
       "      <td>Uzbekistan2014</td>\n",
       "      <td>0.675</td>\n",
       "      <td>63,067,077,179</td>\n",
       "      <td>2309</td>\n",
       "      <td>Boomers</td>\n",
       "    </tr>\n",
       "  </tbody>\n",
       "</table>\n",
       "<p>27820 rows × 12 columns</p>\n",
       "</div>"
      ],
      "text/plain": [
       "          country  year     sex          age  suicides_no  population  \\\n",
       "0         Albania  1987    male  15-24 years           21      312900   \n",
       "1         Albania  1987    male  35-54 years           16      308000   \n",
       "2         Albania  1987  female  15-24 years           14      289700   \n",
       "3         Albania  1987    male    75+ years            1       21800   \n",
       "4         Albania  1987    male  25-34 years            9      274300   \n",
       "...           ...   ...     ...          ...          ...         ...   \n",
       "27815  Uzbekistan  2014  female  35-54 years          107     3620833   \n",
       "27816  Uzbekistan  2014  female    75+ years            9      348465   \n",
       "27817  Uzbekistan  2014    male   5-14 years           60     2762158   \n",
       "27818  Uzbekistan  2014  female   5-14 years           44     2631600   \n",
       "27819  Uzbekistan  2014  female  55-74 years           21     1438935   \n",
       "\n",
       "       suicides/100k pop    country-year  HDI for year  gdp_for_year ($)   \\\n",
       "0                   6.71     Albania1987           NaN      2,156,624,900   \n",
       "1                   5.19     Albania1987           NaN      2,156,624,900   \n",
       "2                   4.83     Albania1987           NaN      2,156,624,900   \n",
       "3                   4.59     Albania1987           NaN      2,156,624,900   \n",
       "4                   3.28     Albania1987           NaN      2,156,624,900   \n",
       "...                  ...             ...           ...                ...   \n",
       "27815               2.96  Uzbekistan2014         0.675     63,067,077,179   \n",
       "27816               2.58  Uzbekistan2014         0.675     63,067,077,179   \n",
       "27817               2.17  Uzbekistan2014         0.675     63,067,077,179   \n",
       "27818               1.67  Uzbekistan2014         0.675     63,067,077,179   \n",
       "27819               1.46  Uzbekistan2014         0.675     63,067,077,179   \n",
       "\n",
       "       gdp_per_capita ($)       generation  \n",
       "0                     796     Generation X  \n",
       "1                     796           Silent  \n",
       "2                     796     Generation X  \n",
       "3                     796  G.I. Generation  \n",
       "4                     796          Boomers  \n",
       "...                   ...              ...  \n",
       "27815                2309     Generation X  \n",
       "27816                2309           Silent  \n",
       "27817                2309     Generation Z  \n",
       "27818                2309     Generation Z  \n",
       "27819                2309          Boomers  \n",
       "\n",
       "[27820 rows x 12 columns]"
      ]
     },
     "execution_count": 3,
     "metadata": {},
     "output_type": "execute_result"
    }
   ],
   "source": [
    "suicide_data"
   ]
  },
  {
   "cell_type": "markdown",
   "id": "hybrid-volume",
   "metadata": {
    "papermill": {
     "duration": 0.029607,
     "end_time": "2021-06-07T07:30:59.237104",
     "exception": false,
     "start_time": "2021-06-07T07:30:59.207497",
     "status": "completed"
    },
    "tags": []
   },
   "source": [
    "# Visualization of suicide pattern and what graph we will use to see trend of suicide and relationship of each case / country / gdp / population and etc.\n",
    "\n",
    "Below will show you each finding that we will find. Stay tuned and dont forget to upvote."
   ]
  },
  {
   "cell_type": "code",
   "execution_count": 4,
   "id": "superb-saint",
   "metadata": {
    "execution": {
     "iopub.execute_input": "2021-06-07T07:30:59.317527Z",
     "iopub.status.busy": "2021-06-07T07:30:59.301479Z",
     "iopub.status.idle": "2021-06-07T07:30:59.337869Z",
     "shell.execute_reply": "2021-06-07T07:30:59.337009Z",
     "shell.execute_reply.started": "2021-06-07T07:03:24.194134Z"
    },
    "papermill": {
     "duration": 0.07132,
     "end_time": "2021-06-07T07:30:59.338072",
     "exception": false,
     "start_time": "2021-06-07T07:30:59.266752",
     "status": "completed"
    },
    "tags": []
   },
   "outputs": [
    {
     "name": "stdout",
     "output_type": "stream",
     "text": [
      "<class 'pandas.core.frame.DataFrame'>\n",
      "RangeIndex: 27820 entries, 0 to 27819\n",
      "Data columns (total 12 columns):\n",
      " #   Column              Non-Null Count  Dtype  \n",
      "---  ------              --------------  -----  \n",
      " 0   country             27820 non-null  object \n",
      " 1   year                27820 non-null  int64  \n",
      " 2   sex                 27820 non-null  object \n",
      " 3   age                 27820 non-null  object \n",
      " 4   suicides_no         27820 non-null  int64  \n",
      " 5   population          27820 non-null  int64  \n",
      " 6   suicides/100k pop   27820 non-null  float64\n",
      " 7   country-year        27820 non-null  object \n",
      " 8   HDI for year        8364 non-null   float64\n",
      " 9    gdp_for_year ($)   27820 non-null  object \n",
      " 10  gdp_per_capita ($)  27820 non-null  int64  \n",
      " 11  generation          27820 non-null  object \n",
      "dtypes: float64(2), int64(4), object(6)\n",
      "memory usage: 2.5+ MB\n"
     ]
    }
   ],
   "source": [
    "suicide_data.info()"
   ]
  },
  {
   "cell_type": "markdown",
   "id": "supported-clearance",
   "metadata": {
    "papermill": {
     "duration": 0.030439,
     "end_time": "2021-06-07T07:30:59.402091",
     "exception": false,
     "start_time": "2021-06-07T07:30:59.371652",
     "status": "completed"
    },
    "tags": []
   },
   "source": [
    "I need to see a correlation between each column.\n",
    "\n",
    "Once correlation been identified i can know which column have more significant and interesting for us to explore."
   ]
  },
  {
   "cell_type": "code",
   "execution_count": 5,
   "id": "minimal-marijuana",
   "metadata": {
    "execution": {
     "iopub.execute_input": "2021-06-07T07:30:59.468370Z",
     "iopub.status.busy": "2021-06-07T07:30:59.467300Z",
     "iopub.status.idle": "2021-06-07T07:30:59.479224Z",
     "shell.execute_reply": "2021-06-07T07:30:59.478636Z",
     "shell.execute_reply.started": "2021-06-07T07:03:24.234947Z"
    },
    "papermill": {
     "duration": 0.047427,
     "end_time": "2021-06-07T07:30:59.479368",
     "exception": false,
     "start_time": "2021-06-07T07:30:59.431941",
     "status": "completed"
    },
    "tags": []
   },
   "outputs": [],
   "source": [
    "suicide_data1 = suicide_data.iloc[:,[0,1,2,3,4,5,6,7,8,9,10,11]]\n",
    "suicide_corr = suicide_data1.corr()"
   ]
  },
  {
   "cell_type": "code",
   "execution_count": 6,
   "id": "gothic-liechtenstein",
   "metadata": {
    "execution": {
     "iopub.execute_input": "2021-06-07T07:30:59.559032Z",
     "iopub.status.busy": "2021-06-07T07:30:59.558290Z",
     "iopub.status.idle": "2021-06-07T07:30:59.888678Z",
     "shell.execute_reply": "2021-06-07T07:30:59.889149Z",
     "shell.execute_reply.started": "2021-06-07T07:03:24.252363Z"
    },
    "papermill": {
     "duration": 0.380211,
     "end_time": "2021-06-07T07:30:59.889326",
     "exception": false,
     "start_time": "2021-06-07T07:30:59.509115",
     "status": "completed"
    },
    "tags": []
   },
   "outputs": [
    {
     "data": {
      "text/plain": [
       "<AxesSubplot:>"
      ]
     },
     "execution_count": 6,
     "metadata": {},
     "output_type": "execute_result"
    },
    {
     "data": {
      "image/png": "[encoded data removed]",
      "text/plain": [
       "<Figure size 432x288 with 2 Axes>"
      ]
     },
     "metadata": {
      "needs_background": "light"
     },
     "output_type": "display_data"
    }
   ],
   "source": [
    "sns.heatmap(suicide_corr, square = True)"
   ]
  },
  {
   "cell_type": "markdown",
   "id": "recognized-cartridge",
   "metadata": {
    "papermill": {
     "duration": 0.03066,
     "end_time": "2021-06-07T07:30:59.950968",
     "exception": false,
     "start_time": "2021-06-07T07:30:59.920308",
     "status": "completed"
    },
    "tags": []
   },
   "source": [
    "How about the completeness of this dataset, whether it have missing values or not. I need to check ot to ensure that we are not doing something that accuracy of the data are low.\n",
    "\n",
    "Checking any missing values inside this data is important."
   ]
  },
  {
   "cell_type": "code",
   "execution_count": 7,
   "id": "capital-housing",
   "metadata": {
    "execution": {
     "iopub.execute_input": "2021-06-07T07:31:00.017876Z",
     "iopub.status.busy": "2021-06-07T07:31:00.016894Z",
     "iopub.status.idle": "2021-06-07T07:31:00.041339Z",
     "shell.execute_reply": "2021-06-07T07:31:00.040753Z",
     "shell.execute_reply.started": "2021-06-07T07:03:24.531280Z"
    },
    "papermill": {
     "duration": 0.059509,
     "end_time": "2021-06-07T07:31:00.041485",
     "exception": false,
     "start_time": "2021-06-07T07:30:59.981976",
     "status": "completed"
    },
    "tags": []
   },
   "outputs": [
    {
     "data": {
      "text/plain": [
       "country                   0\n",
       "year                      0\n",
       "sex                       0\n",
       "age                       0\n",
       "suicides_no               0\n",
       "population                0\n",
       "suicides/100k pop         0\n",
       "country-year              0\n",
       "HDI for year          19456\n",
       " gdp_for_year ($)         0\n",
       "gdp_per_capita ($)        0\n",
       "generation                0\n",
       "dtype: int64"
      ]
     },
     "execution_count": 7,
     "metadata": {},
     "output_type": "execute_result"
    }
   ],
   "source": [
    "suicide_data.isna().sum()"
   ]
  },
  {
   "cell_type": "markdown",
   "id": "incoming-canadian",
   "metadata": {
    "papermill": {
     "duration": 0.030906,
     "end_time": "2021-06-07T07:31:00.104838",
     "exception": false,
     "start_time": "2021-06-07T07:31:00.073932",
     "status": "completed"
    },
    "tags": []
   },
   "source": [
    "HDI have 19456 missing values. I think i need to drop this column to ensure high efficiency of accuracy for our dataset and insights."
   ]
  },
  {
   "cell_type": "code",
   "execution_count": 8,
   "id": "immune-commander",
   "metadata": {
    "execution": {
     "iopub.execute_input": "2021-06-07T07:31:00.188744Z",
     "iopub.status.busy": "2021-06-07T07:31:00.177192Z",
     "iopub.status.idle": "2021-06-07T07:31:00.200772Z",
     "shell.execute_reply": "2021-06-07T07:31:00.201291Z",
     "shell.execute_reply.started": "2021-06-07T07:03:24.560381Z"
    },
    "papermill": {
     "duration": 0.064686,
     "end_time": "2021-06-07T07:31:00.201470",
     "exception": false,
     "start_time": "2021-06-07T07:31:00.136784",
     "status": "completed"
    },
    "tags": []
   },
   "outputs": [
    {
     "data": {
      "text/html": [
       "<div>\n",
       "<style scoped>\n",
       "    .dataframe tbody tr th:only-of-type {\n",
       "        vertical-align: middle;\n",
       "    }\n",
       "\n",
       "    .dataframe tbody tr th {\n",
       "        vertical-align: top;\n",
       "    }\n",
       "\n",
       "    .dataframe thead th {\n",
       "        text-align: right;\n",
       "    }\n",
       "</style>\n",
       "<table border=\"1\" class=\"dataframe\">\n",
       "  <thead>\n",
       "    <tr style=\"text-align: right;\">\n",
       "      <th></th>\n",
       "      <th>country</th>\n",
       "      <th>year</th>\n",
       "      <th>sex</th>\n",
       "      <th>age</th>\n",
       "      <th>suicides_no</th>\n",
       "      <th>population</th>\n",
       "      <th>suicides/100k pop</th>\n",
       "      <th>country-year</th>\n",
       "      <th>HDI for year</th>\n",
       "      <th>gdp_for_year ($)</th>\n",
       "      <th>gdp_per_capita ($)</th>\n",
       "      <th>generation</th>\n",
       "    </tr>\n",
       "  </thead>\n",
       "  <tbody>\n",
       "    <tr>\n",
       "      <th>0</th>\n",
       "      <td>Albania</td>\n",
       "      <td>1987</td>\n",
       "      <td>male</td>\n",
       "      <td>15-24 years</td>\n",
       "      <td>21</td>\n",
       "      <td>312900</td>\n",
       "      <td>6.71</td>\n",
       "      <td>Albania1987</td>\n",
       "      <td>NaN</td>\n",
       "      <td>2,156,624,900</td>\n",
       "      <td>796</td>\n",
       "      <td>Generation X</td>\n",
       "    </tr>\n",
       "    <tr>\n",
       "      <th>1</th>\n",
       "      <td>Albania</td>\n",
       "      <td>1987</td>\n",
       "      <td>male</td>\n",
       "      <td>35-54 years</td>\n",
       "      <td>16</td>\n",
       "      <td>308000</td>\n",
       "      <td>5.19</td>\n",
       "      <td>Albania1987</td>\n",
       "      <td>NaN</td>\n",
       "      <td>2,156,624,900</td>\n",
       "      <td>796</td>\n",
       "      <td>Silent</td>\n",
       "    </tr>\n",
       "    <tr>\n",
       "      <th>2</th>\n",
       "      <td>Albania</td>\n",
       "      <td>1987</td>\n",
       "      <td>female</td>\n",
       "      <td>15-24 years</td>\n",
       "      <td>14</td>\n",
       "      <td>289700</td>\n",
       "      <td>4.83</td>\n",
       "      <td>Albania1987</td>\n",
       "      <td>NaN</td>\n",
       "      <td>2,156,624,900</td>\n",
       "      <td>796</td>\n",
       "      <td>Generation X</td>\n",
       "    </tr>\n",
       "    <tr>\n",
       "      <th>3</th>\n",
       "      <td>Albania</td>\n",
       "      <td>1987</td>\n",
       "      <td>male</td>\n",
       "      <td>75+ years</td>\n",
       "      <td>1</td>\n",
       "      <td>21800</td>\n",
       "      <td>4.59</td>\n",
       "      <td>Albania1987</td>\n",
       "      <td>NaN</td>\n",
       "      <td>2,156,624,900</td>\n",
       "      <td>796</td>\n",
       "      <td>G.I. Generation</td>\n",
       "    </tr>\n",
       "    <tr>\n",
       "      <th>4</th>\n",
       "      <td>Albania</td>\n",
       "      <td>1987</td>\n",
       "      <td>male</td>\n",
       "      <td>25-34 years</td>\n",
       "      <td>9</td>\n",
       "      <td>274300</td>\n",
       "      <td>3.28</td>\n",
       "      <td>Albania1987</td>\n",
       "      <td>NaN</td>\n",
       "      <td>2,156,624,900</td>\n",
       "      <td>796</td>\n",
       "      <td>Boomers</td>\n",
       "    </tr>\n",
       "    <tr>\n",
       "      <th>...</th>\n",
       "      <td>...</td>\n",
       "      <td>...</td>\n",
       "      <td>...</td>\n",
       "      <td>...</td>\n",
       "      <td>...</td>\n",
       "      <td>...</td>\n",
       "      <td>...</td>\n",
       "      <td>...</td>\n",
       "      <td>...</td>\n",
       "      <td>...</td>\n",
       "      <td>...</td>\n",
       "      <td>...</td>\n",
       "    </tr>\n",
       "    <tr>\n",
       "      <th>27815</th>\n",
       "      <td>Uzbekistan</td>\n",
       "      <td>2014</td>\n",
       "      <td>female</td>\n",
       "      <td>35-54 years</td>\n",
       "      <td>107</td>\n",
       "      <td>3620833</td>\n",
       "      <td>2.96</td>\n",
       "      <td>Uzbekistan2014</td>\n",
       "      <td>0.675</td>\n",
       "      <td>63,067,077,179</td>\n",
       "      <td>2309</td>\n",
       "      <td>Generation X</td>\n",
       "    </tr>\n",
       "    <tr>\n",
       "      <th>27816</th>\n",
       "      <td>Uzbekistan</td>\n",
       "      <td>2014</td>\n",
       "      <td>female</td>\n",
       "      <td>75+ years</td>\n",
       "      <td>9</td>\n",
       "      <td>348465</td>\n",
       "      <td>2.58</td>\n",
       "      <td>Uzbekistan2014</td>\n",
       "      <td>0.675</td>\n",
       "      <td>63,067,077,179</td>\n",
       "      <td>2309</td>\n",
       "      <td>Silent</td>\n",
       "    </tr>\n",
       "    <tr>\n",
       "      <th>27817</th>\n",
       "      <td>Uzbekistan</td>\n",
       "      <td>2014</td>\n",
       "      <td>male</td>\n",
       "      <td>5-14 years</td>\n",
       "      <td>60</td>\n",
       "      <td>2762158</td>\n",
       "      <td>2.17</td>\n",
       "      <td>Uzbekistan2014</td>\n",
       "      <td>0.675</td>\n",
       "      <td>63,067,077,179</td>\n",
       "      <td>2309</td>\n",
       "      <td>Generation Z</td>\n",
       "    </tr>\n",
       "    <tr>\n",
       "      <th>27818</th>\n",
       "      <td>Uzbekistan</td>\n",
       "      <td>2014</td>\n",
       "      <td>female</td>\n",
       "      <td>5-14 years</td>\n",
       "      <td>44</td>\n",
       "      <td>2631600</td>\n",
       "      <td>1.67</td>\n",
       "      <td>Uzbekistan2014</td>\n",
       "      <td>0.675</td>\n",
       "      <td>63,067,077,179</td>\n",
       "      <td>2309</td>\n",
       "      <td>Generation Z</td>\n",
       "    </tr>\n",
       "    <tr>\n",
       "      <th>27819</th>\n",
       "      <td>Uzbekistan</td>\n",
       "      <td>2014</td>\n",
       "      <td>female</td>\n",
       "      <td>55-74 years</td>\n",
       "      <td>21</td>\n",
       "      <td>1438935</td>\n",
       "      <td>1.46</td>\n",
       "      <td>Uzbekistan2014</td>\n",
       "      <td>0.675</td>\n",
       "      <td>63,067,077,179</td>\n",
       "      <td>2309</td>\n",
       "      <td>Boomers</td>\n",
       "    </tr>\n",
       "  </tbody>\n",
       "</table>\n",
       "<p>27820 rows × 12 columns</p>\n",
       "</div>"
      ],
      "text/plain": [
       "          country  year     sex          age  suicides_no  population  \\\n",
       "0         Albania  1987    male  15-24 years           21      312900   \n",
       "1         Albania  1987    male  35-54 years           16      308000   \n",
       "2         Albania  1987  female  15-24 years           14      289700   \n",
       "3         Albania  1987    male    75+ years            1       21800   \n",
       "4         Albania  1987    male  25-34 years            9      274300   \n",
       "...           ...   ...     ...          ...          ...         ...   \n",
       "27815  Uzbekistan  2014  female  35-54 years          107     3620833   \n",
       "27816  Uzbekistan  2014  female    75+ years            9      348465   \n",
       "27817  Uzbekistan  2014    male   5-14 years           60     2762158   \n",
       "27818  Uzbekistan  2014  female   5-14 years           44     2631600   \n",
       "27819  Uzbekistan  2014  female  55-74 years           21     1438935   \n",
       "\n",
       "       suicides/100k pop    country-year  HDI for year  gdp_for_year ($)   \\\n",
       "0                   6.71     Albania1987           NaN      2,156,624,900   \n",
       "1                   5.19     Albania1987           NaN      2,156,624,900   \n",
       "2                   4.83     Albania1987           NaN      2,156,624,900   \n",
       "3                   4.59     Albania1987           NaN      2,156,624,900   \n",
       "4                   3.28     Albania1987           NaN      2,156,624,900   \n",
       "...                  ...             ...           ...                ...   \n",
       "27815               2.96  Uzbekistan2014         0.675     63,067,077,179   \n",
       "27816               2.58  Uzbekistan2014         0.675     63,067,077,179   \n",
       "27817               2.17  Uzbekistan2014         0.675     63,067,077,179   \n",
       "27818               1.67  Uzbekistan2014         0.675     63,067,077,179   \n",
       "27819               1.46  Uzbekistan2014         0.675     63,067,077,179   \n",
       "\n",
       "       gdp_per_capita ($)       generation  \n",
       "0                     796     Generation X  \n",
       "1                     796           Silent  \n",
       "2                     796     Generation X  \n",
       "3                     796  G.I. Generation  \n",
       "4                     796          Boomers  \n",
       "...                   ...              ...  \n",
       "27815                2309     Generation X  \n",
       "27816                2309           Silent  \n",
       "27817                2309     Generation Z  \n",
       "27818                2309     Generation Z  \n",
       "27819                2309          Boomers  \n",
       "\n",
       "[27820 rows x 12 columns]"
      ]
     },
     "execution_count": 8,
     "metadata": {},
     "output_type": "execute_result"
    }
   ],
   "source": [
    "suicide_data"
   ]
  },
  {
   "cell_type": "code",
   "execution_count": 9,
   "id": "convinced-westminster",
   "metadata": {
    "execution": {
     "iopub.execute_input": "2021-06-07T07:31:00.272438Z",
     "iopub.status.busy": "2021-06-07T07:31:00.271457Z",
     "iopub.status.idle": "2021-06-07T07:31:00.279139Z",
     "shell.execute_reply": "2021-06-07T07:31:00.279635Z",
     "shell.execute_reply.started": "2021-06-07T07:03:24.598005Z"
    },
    "papermill": {
     "duration": 0.042956,
     "end_time": "2021-06-07T07:31:00.279818",
     "exception": false,
     "start_time": "2021-06-07T07:31:00.236862",
     "status": "completed"
    },
    "tags": []
   },
   "outputs": [],
   "source": [
    "suicide_data_complete = suicide_data.iloc[:,[0,1,2,3,4,5,6,7,9,10,11]]"
   ]
  },
  {
   "cell_type": "code",
   "execution_count": 10,
   "id": "helpful-narrow",
   "metadata": {
    "execution": {
     "iopub.execute_input": "2021-06-07T07:31:00.356027Z",
     "iopub.status.busy": "2021-06-07T07:31:00.355014Z",
     "iopub.status.idle": "2021-06-07T07:31:00.390801Z",
     "shell.execute_reply": "2021-06-07T07:31:00.391763Z",
     "shell.execute_reply.started": "2021-06-07T07:03:24.610896Z"
    },
    "papermill": {
     "duration": 0.080269,
     "end_time": "2021-06-07T07:31:00.392052",
     "exception": false,
     "start_time": "2021-06-07T07:31:00.311783",
     "status": "completed"
    },
    "tags": []
   },
   "outputs": [
    {
     "data": {
      "text/html": [
       "<div>\n",
       "<style scoped>\n",
       "    .dataframe tbody tr th:only-of-type {\n",
       "        vertical-align: middle;\n",
       "    }\n",
       "\n",
       "    .dataframe tbody tr th {\n",
       "        vertical-align: top;\n",
       "    }\n",
       "\n",
       "    .dataframe thead th {\n",
       "        text-align: right;\n",
       "    }\n",
       "</style>\n",
       "<table border=\"1\" class=\"dataframe\">\n",
       "  <thead>\n",
       "    <tr style=\"text-align: right;\">\n",
       "      <th></th>\n",
       "      <th>country</th>\n",
       "      <th>year</th>\n",
       "      <th>sex</th>\n",
       "      <th>age</th>\n",
       "      <th>suicides_no</th>\n",
       "      <th>population</th>\n",
       "      <th>suicides/100k pop</th>\n",
       "      <th>country-year</th>\n",
       "      <th>gdp_for_year ($)</th>\n",
       "      <th>gdp_per_capita ($)</th>\n",
       "      <th>generation</th>\n",
       "    </tr>\n",
       "  </thead>\n",
       "  <tbody>\n",
       "    <tr>\n",
       "      <th>0</th>\n",
       "      <td>Albania</td>\n",
       "      <td>1987</td>\n",
       "      <td>male</td>\n",
       "      <td>15-24 years</td>\n",
       "      <td>21</td>\n",
       "      <td>312900</td>\n",
       "      <td>6.71</td>\n",
       "      <td>Albania1987</td>\n",
       "      <td>2,156,624,900</td>\n",
       "      <td>796</td>\n",
       "      <td>Generation X</td>\n",
       "    </tr>\n",
       "    <tr>\n",
       "      <th>1</th>\n",
       "      <td>Albania</td>\n",
       "      <td>1987</td>\n",
       "      <td>male</td>\n",
       "      <td>35-54 years</td>\n",
       "      <td>16</td>\n",
       "      <td>308000</td>\n",
       "      <td>5.19</td>\n",
       "      <td>Albania1987</td>\n",
       "      <td>2,156,624,900</td>\n",
       "      <td>796</td>\n",
       "      <td>Silent</td>\n",
       "    </tr>\n",
       "    <tr>\n",
       "      <th>2</th>\n",
       "      <td>Albania</td>\n",
       "      <td>1987</td>\n",
       "      <td>female</td>\n",
       "      <td>15-24 years</td>\n",
       "      <td>14</td>\n",
       "      <td>289700</td>\n",
       "      <td>4.83</td>\n",
       "      <td>Albania1987</td>\n",
       "      <td>2,156,624,900</td>\n",
       "      <td>796</td>\n",
       "      <td>Generation X</td>\n",
       "    </tr>\n",
       "    <tr>\n",
       "      <th>3</th>\n",
       "      <td>Albania</td>\n",
       "      <td>1987</td>\n",
       "      <td>male</td>\n",
       "      <td>75+ years</td>\n",
       "      <td>1</td>\n",
       "      <td>21800</td>\n",
       "      <td>4.59</td>\n",
       "      <td>Albania1987</td>\n",
       "      <td>2,156,624,900</td>\n",
       "      <td>796</td>\n",
       "      <td>G.I. Generation</td>\n",
       "    </tr>\n",
       "    <tr>\n",
       "      <th>4</th>\n",
       "      <td>Albania</td>\n",
       "      <td>1987</td>\n",
       "      <td>male</td>\n",
       "      <td>25-34 years</td>\n",
       "      <td>9</td>\n",
       "      <td>274300</td>\n",
       "      <td>3.28</td>\n",
       "      <td>Albania1987</td>\n",
       "      <td>2,156,624,900</td>\n",
       "      <td>796</td>\n",
       "      <td>Boomers</td>\n",
       "    </tr>\n",
       "    <tr>\n",
       "      <th>...</th>\n",
       "      <td>...</td>\n",
       "      <td>...</td>\n",
       "      <td>...</td>\n",
       "      <td>...</td>\n",
       "      <td>...</td>\n",
       "      <td>...</td>\n",
       "      <td>...</td>\n",
       "      <td>...</td>\n",
       "      <td>...</td>\n",
       "      <td>...</td>\n",
       "      <td>...</td>\n",
       "    </tr>\n",
       "    <tr>\n",
       "      <th>27815</th>\n",
       "      <td>Uzbekistan</td>\n",
       "      <td>2014</td>\n",
       "      <td>female</td>\n",
       "      <td>35-54 years</td>\n",
       "      <td>107</td>\n",
       "      <td>3620833</td>\n",
       "      <td>2.96</td>\n",
       "      <td>Uzbekistan2014</td>\n",
       "      <td>63,067,077,179</td>\n",
       "      <td>2309</td>\n",
       "      <td>Generation X</td>\n",
       "    </tr>\n",
       "    <tr>\n",
       "      <th>27816</th>\n",
       "      <td>Uzbekistan</td>\n",
       "      <td>2014</td>\n",
       "      <td>female</td>\n",
       "      <td>75+ years</td>\n",
       "      <td>9</td>\n",
       "      <td>348465</td>\n",
       "      <td>2.58</td>\n",
       "      <td>Uzbekistan2014</td>\n",
       "      <td>63,067,077,179</td>\n",
       "      <td>2309</td>\n",
       "      <td>Silent</td>\n",
       "    </tr>\n",
       "    <tr>\n",
       "      <th>27817</th>\n",
       "      <td>Uzbekistan</td>\n",
       "      <td>2014</td>\n",
       "      <td>male</td>\n",
       "      <td>5-14 years</td>\n",
       "      <td>60</td>\n",
       "      <td>2762158</td>\n",
       "      <td>2.17</td>\n",
       "      <td>Uzbekistan2014</td>\n",
       "      <td>63,067,077,179</td>\n",
       "      <td>2309</td>\n",
       "      <td>Generation Z</td>\n",
       "    </tr>\n",
       "    <tr>\n",
       "      <th>27818</th>\n",
       "      <td>Uzbekistan</td>\n",
       "      <td>2014</td>\n",
       "      <td>female</td>\n",
       "      <td>5-14 years</td>\n",
       "      <td>44</td>\n",
       "      <td>2631600</td>\n",
       "      <td>1.67</td>\n",
       "      <td>Uzbekistan2014</td>\n",
       "      <td>63,067,077,179</td>\n",
       "      <td>2309</td>\n",
       "      <td>Generation Z</td>\n",
       "    </tr>\n",
       "    <tr>\n",
       "      <th>27819</th>\n",
       "      <td>Uzbekistan</td>\n",
       "      <td>2014</td>\n",
       "      <td>female</td>\n",
       "      <td>55-74 years</td>\n",
       "      <td>21</td>\n",
       "      <td>1438935</td>\n",
       "      <td>1.46</td>\n",
       "      <td>Uzbekistan2014</td>\n",
       "      <td>63,067,077,179</td>\n",
       "      <td>2309</td>\n",
       "      <td>Boomers</td>\n",
       "    </tr>\n",
       "  </tbody>\n",
       "</table>\n",
       "<p>27820 rows × 11 columns</p>\n",
       "</div>"
      ],
      "text/plain": [
       "          country  year     sex          age  suicides_no  population  \\\n",
       "0         Albania  1987    male  15-24 years           21      312900   \n",
       "1         Albania  1987    male  35-54 years           16      308000   \n",
       "2         Albania  1987  female  15-24 years           14      289700   \n",
       "3         Albania  1987    male    75+ years            1       21800   \n",
       "4         Albania  1987    male  25-34 years            9      274300   \n",
       "...           ...   ...     ...          ...          ...         ...   \n",
       "27815  Uzbekistan  2014  female  35-54 years          107     3620833   \n",
       "27816  Uzbekistan  2014  female    75+ years            9      348465   \n",
       "27817  Uzbekistan  2014    male   5-14 years           60     2762158   \n",
       "27818  Uzbekistan  2014  female   5-14 years           44     2631600   \n",
       "27819  Uzbekistan  2014  female  55-74 years           21     1438935   \n",
       "\n",
       "       suicides/100k pop    country-year  gdp_for_year ($)   \\\n",
       "0                   6.71     Albania1987      2,156,624,900   \n",
       "1                   5.19     Albania1987      2,156,624,900   \n",
       "2                   4.83     Albania1987      2,156,624,900   \n",
       "3                   4.59     Albania1987      2,156,624,900   \n",
       "4                   3.28     Albania1987      2,156,624,900   \n",
       "...                  ...             ...                ...   \n",
       "27815               2.96  Uzbekistan2014     63,067,077,179   \n",
       "27816               2.58  Uzbekistan2014     63,067,077,179   \n",
       "27817               2.17  Uzbekistan2014     63,067,077,179   \n",
       "27818               1.67  Uzbekistan2014     63,067,077,179   \n",
       "27819               1.46  Uzbekistan2014     63,067,077,179   \n",
       "\n",
       "       gdp_per_capita ($)       generation  \n",
       "0                     796     Generation X  \n",
       "1                     796           Silent  \n",
       "2                     796     Generation X  \n",
       "3                     796  G.I. Generation  \n",
       "4                     796          Boomers  \n",
       "...                   ...              ...  \n",
       "27815                2309     Generation X  \n",
       "27816                2309           Silent  \n",
       "27817                2309     Generation Z  \n",
       "27818                2309     Generation Z  \n",
       "27819                2309          Boomers  \n",
       "\n",
       "[27820 rows x 11 columns]"
      ]
     },
     "execution_count": 10,
     "metadata": {},
     "output_type": "execute_result"
    }
   ],
   "source": [
    "suicide_data_complete"
   ]
  },
  {
   "cell_type": "code",
   "execution_count": 11,
   "id": "innocent-waters",
   "metadata": {
    "execution": {
     "iopub.execute_input": "2021-06-07T07:31:00.478030Z",
     "iopub.status.busy": "2021-06-07T07:31:00.477384Z",
     "iopub.status.idle": "2021-06-07T07:31:00.488094Z",
     "shell.execute_reply": "2021-06-07T07:31:00.488587Z",
     "shell.execute_reply.started": "2021-06-07T07:03:24.647684Z"
    },
    "papermill": {
     "duration": 0.046028,
     "end_time": "2021-06-07T07:31:00.488771",
     "exception": false,
     "start_time": "2021-06-07T07:31:00.442743",
     "status": "completed"
    },
    "tags": []
   },
   "outputs": [
    {
     "data": {
      "text/plain": [
       "101"
      ]
     },
     "execution_count": 11,
     "metadata": {},
     "output_type": "execute_result"
    }
   ],
   "source": [
    "suicide_data_complete.iloc[:,0].nunique()"
   ]
  },
  {
   "cell_type": "code",
   "execution_count": 12,
   "id": "desirable-scoop",
   "metadata": {
    "execution": {
     "iopub.execute_input": "2021-06-07T07:31:00.560660Z",
     "iopub.status.busy": "2021-06-07T07:31:00.560014Z",
     "iopub.status.idle": "2021-06-07T07:31:00.567662Z",
     "shell.execute_reply": "2021-06-07T07:31:00.567001Z",
     "shell.execute_reply.started": "2021-06-07T07:03:24.665461Z"
    },
    "papermill": {
     "duration": 0.046183,
     "end_time": "2021-06-07T07:31:00.567809",
     "exception": false,
     "start_time": "2021-06-07T07:31:00.521626",
     "status": "completed"
    },
    "tags": []
   },
   "outputs": [
    {
     "data": {
      "text/plain": [
       "['Albania',\n",
       " 'Antigua and Barbuda',\n",
       " 'Argentina',\n",
       " 'Armenia',\n",
       " 'Aruba',\n",
       " 'Australia',\n",
       " 'Austria',\n",
       " 'Azerbaijan',\n",
       " 'Bahamas',\n",
       " 'Bahrain',\n",
       " 'Barbados',\n",
       " 'Belarus',\n",
       " 'Belgium',\n",
       " 'Belize',\n",
       " 'Bosnia and Herzegovina',\n",
       " 'Brazil',\n",
       " 'Bulgaria',\n",
       " 'Cabo Verde',\n",
       " 'Canada',\n",
       " 'Chile',\n",
       " 'Colombia',\n",
       " 'Costa Rica',\n",
       " 'Croatia',\n",
       " 'Cuba',\n",
       " 'Cyprus',\n",
       " 'Czech Republic',\n",
       " 'Denmark',\n",
       " 'Dominica',\n",
       " 'Ecuador',\n",
       " 'El Salvador',\n",
       " 'Estonia',\n",
       " 'Fiji',\n",
       " 'Finland',\n",
       " 'France',\n",
       " 'Georgia',\n",
       " 'Germany',\n",
       " 'Greece',\n",
       " 'Grenada',\n",
       " 'Guatemala',\n",
       " 'Guyana',\n",
       " 'Hungary',\n",
       " 'Iceland',\n",
       " 'Ireland',\n",
       " 'Israel',\n",
       " 'Italy',\n",
       " 'Jamaica',\n",
       " 'Japan',\n",
       " 'Kazakhstan',\n",
       " 'Kiribati',\n",
       " 'Kuwait',\n",
       " 'Kyrgyzstan',\n",
       " 'Latvia',\n",
       " 'Lithuania',\n",
       " 'Luxembourg',\n",
       " 'Macau',\n",
       " 'Maldives',\n",
       " 'Malta',\n",
       " 'Mauritius',\n",
       " 'Mexico',\n",
       " 'Mongolia',\n",
       " 'Montenegro',\n",
       " 'Netherlands',\n",
       " 'New Zealand',\n",
       " 'Nicaragua',\n",
       " 'Norway',\n",
       " 'Oman',\n",
       " 'Panama',\n",
       " 'Paraguay',\n",
       " 'Philippines',\n",
       " 'Poland',\n",
       " 'Portugal',\n",
       " 'Puerto Rico',\n",
       " 'Qatar',\n",
       " 'Republic of Korea',\n",
       " 'Romania',\n",
       " 'Russian Federation',\n",
       " 'Saint Kitts and Nevis',\n",
       " 'Saint Lucia',\n",
       " 'Saint Vincent and Grenadines',\n",
       " 'San Marino',\n",
       " 'Serbia',\n",
       " 'Seychelles',\n",
       " 'Singapore',\n",
       " 'Slovakia',\n",
       " 'Slovenia',\n",
       " 'South Africa',\n",
       " 'Spain',\n",
       " 'Sri Lanka',\n",
       " 'Suriname',\n",
       " 'Sweden',\n",
       " 'Switzerland',\n",
       " 'Thailand',\n",
       " 'Trinidad and Tobago',\n",
       " 'Turkey',\n",
       " 'Turkmenistan',\n",
       " 'Ukraine',\n",
       " 'United Arab Emirates',\n",
       " 'United Kingdom',\n",
       " 'United States',\n",
       " 'Uruguay',\n",
       " 'Uzbekistan']"
      ]
     },
     "execution_count": 12,
     "metadata": {},
     "output_type": "execute_result"
    }
   ],
   "source": [
    "#list all country that we have in this dataset\n",
    "suicide_country = suicide_data_complete.iloc[:,0].unique()\n",
    "\n",
    "suicide_country.tolist()"
   ]
  },
  {
   "cell_type": "markdown",
   "id": "acceptable-trance",
   "metadata": {
    "papermill": {
     "duration": 0.032881,
     "end_time": "2021-06-07T07:31:00.635220",
     "exception": false,
     "start_time": "2021-06-07T07:31:00.602339",
     "status": "completed"
    },
    "tags": []
   },
   "source": [
    "Now we can try to check trend of suicide for each country. I'm planning to use several parameters to get more understanding on this matters.\n",
    "\n",
    "There are several columns that i find it very interesting to find a pattern such as year,sex,age,gdp and generation.\n",
    "\n",
    "Will try to find more and by the way, this notebook going to be very long and hope you will not bored. Thanks."
   ]
  },
  {
   "cell_type": "code",
   "execution_count": 13,
   "id": "interracial-nelson",
   "metadata": {
    "execution": {
     "iopub.execute_input": "2021-06-07T07:31:00.713582Z",
     "iopub.status.busy": "2021-06-07T07:31:00.712780Z",
     "iopub.status.idle": "2021-06-07T07:31:00.716855Z",
     "shell.execute_reply": "2021-06-07T07:31:00.716208Z",
     "shell.execute_reply.started": "2021-06-07T07:03:24.683355Z"
    },
    "papermill": {
     "duration": 0.048584,
     "end_time": "2021-06-07T07:31:00.716995",
     "exception": false,
     "start_time": "2021-06-07T07:31:00.668411",
     "status": "completed"
    },
    "tags": []
   },
   "outputs": [],
   "source": [
    "suicide_data_albania = suicide_data_complete[suicide_data_complete['country'] == 'Albania']"
   ]
  },
  {
   "cell_type": "code",
   "execution_count": 14,
   "id": "constant-dinner",
   "metadata": {
    "execution": {
     "iopub.execute_input": "2021-06-07T07:31:00.809742Z",
     "iopub.status.busy": "2021-06-07T07:31:00.808612Z",
     "iopub.status.idle": "2021-06-07T07:31:00.813367Z",
     "shell.execute_reply": "2021-06-07T07:31:00.812736Z",
     "shell.execute_reply.started": "2021-06-07T07:03:24.697529Z"
    },
    "papermill": {
     "duration": 0.063288,
     "end_time": "2021-06-07T07:31:00.813516",
     "exception": false,
     "start_time": "2021-06-07T07:31:00.750228",
     "status": "completed"
    },
    "tags": []
   },
   "outputs": [
    {
     "data": {
      "text/html": [
       "<div>\n",
       "<style scoped>\n",
       "    .dataframe tbody tr th:only-of-type {\n",
       "        vertical-align: middle;\n",
       "    }\n",
       "\n",
       "    .dataframe tbody tr th {\n",
       "        vertical-align: top;\n",
       "    }\n",
       "\n",
       "    .dataframe thead th {\n",
       "        text-align: right;\n",
       "    }\n",
       "</style>\n",
       "<table border=\"1\" class=\"dataframe\">\n",
       "  <thead>\n",
       "    <tr style=\"text-align: right;\">\n",
       "      <th></th>\n",
       "      <th>country</th>\n",
       "      <th>year</th>\n",
       "      <th>sex</th>\n",
       "      <th>age</th>\n",
       "      <th>suicides_no</th>\n",
       "      <th>population</th>\n",
       "      <th>suicides/100k pop</th>\n",
       "      <th>country-year</th>\n",
       "      <th>gdp_for_year ($)</th>\n",
       "      <th>gdp_per_capita ($)</th>\n",
       "      <th>generation</th>\n",
       "    </tr>\n",
       "  </thead>\n",
       "  <tbody>\n",
       "    <tr>\n",
       "      <th>0</th>\n",
       "      <td>Albania</td>\n",
       "      <td>1987</td>\n",
       "      <td>male</td>\n",
       "      <td>15-24 years</td>\n",
       "      <td>21</td>\n",
       "      <td>312900</td>\n",
       "      <td>6.71</td>\n",
       "      <td>Albania1987</td>\n",
       "      <td>2,156,624,900</td>\n",
       "      <td>796</td>\n",
       "      <td>Generation X</td>\n",
       "    </tr>\n",
       "    <tr>\n",
       "      <th>1</th>\n",
       "      <td>Albania</td>\n",
       "      <td>1987</td>\n",
       "      <td>male</td>\n",
       "      <td>35-54 years</td>\n",
       "      <td>16</td>\n",
       "      <td>308000</td>\n",
       "      <td>5.19</td>\n",
       "      <td>Albania1987</td>\n",
       "      <td>2,156,624,900</td>\n",
       "      <td>796</td>\n",
       "      <td>Silent</td>\n",
       "    </tr>\n",
       "    <tr>\n",
       "      <th>2</th>\n",
       "      <td>Albania</td>\n",
       "      <td>1987</td>\n",
       "      <td>female</td>\n",
       "      <td>15-24 years</td>\n",
       "      <td>14</td>\n",
       "      <td>289700</td>\n",
       "      <td>4.83</td>\n",
       "      <td>Albania1987</td>\n",
       "      <td>2,156,624,900</td>\n",
       "      <td>796</td>\n",
       "      <td>Generation X</td>\n",
       "    </tr>\n",
       "    <tr>\n",
       "      <th>3</th>\n",
       "      <td>Albania</td>\n",
       "      <td>1987</td>\n",
       "      <td>male</td>\n",
       "      <td>75+ years</td>\n",
       "      <td>1</td>\n",
       "      <td>21800</td>\n",
       "      <td>4.59</td>\n",
       "      <td>Albania1987</td>\n",
       "      <td>2,156,624,900</td>\n",
       "      <td>796</td>\n",
       "      <td>G.I. Generation</td>\n",
       "    </tr>\n",
       "    <tr>\n",
       "      <th>4</th>\n",
       "      <td>Albania</td>\n",
       "      <td>1987</td>\n",
       "      <td>male</td>\n",
       "      <td>25-34 years</td>\n",
       "      <td>9</td>\n",
       "      <td>274300</td>\n",
       "      <td>3.28</td>\n",
       "      <td>Albania1987</td>\n",
       "      <td>2,156,624,900</td>\n",
       "      <td>796</td>\n",
       "      <td>Boomers</td>\n",
       "    </tr>\n",
       "    <tr>\n",
       "      <th>...</th>\n",
       "      <td>...</td>\n",
       "      <td>...</td>\n",
       "      <td>...</td>\n",
       "      <td>...</td>\n",
       "      <td>...</td>\n",
       "      <td>...</td>\n",
       "      <td>...</td>\n",
       "      <td>...</td>\n",
       "      <td>...</td>\n",
       "      <td>...</td>\n",
       "      <td>...</td>\n",
       "    </tr>\n",
       "    <tr>\n",
       "      <th>259</th>\n",
       "      <td>Albania</td>\n",
       "      <td>2010</td>\n",
       "      <td>female</td>\n",
       "      <td>35-54 years</td>\n",
       "      <td>12</td>\n",
       "      <td>394593</td>\n",
       "      <td>3.04</td>\n",
       "      <td>Albania2010</td>\n",
       "      <td>11,926,953,259</td>\n",
       "      <td>4359</td>\n",
       "      <td>Generation X</td>\n",
       "    </tr>\n",
       "    <tr>\n",
       "      <th>260</th>\n",
       "      <td>Albania</td>\n",
       "      <td>2010</td>\n",
       "      <td>female</td>\n",
       "      <td>55-74 years</td>\n",
       "      <td>7</td>\n",
       "      <td>241491</td>\n",
       "      <td>2.90</td>\n",
       "      <td>Albania2010</td>\n",
       "      <td>11,926,953,259</td>\n",
       "      <td>4359</td>\n",
       "      <td>Silent</td>\n",
       "    </tr>\n",
       "    <tr>\n",
       "      <th>261</th>\n",
       "      <td>Albania</td>\n",
       "      <td>2010</td>\n",
       "      <td>female</td>\n",
       "      <td>15-24 years</td>\n",
       "      <td>6</td>\n",
       "      <td>263581</td>\n",
       "      <td>2.28</td>\n",
       "      <td>Albania2010</td>\n",
       "      <td>11,926,953,259</td>\n",
       "      <td>4359</td>\n",
       "      <td>Millenials</td>\n",
       "    </tr>\n",
       "    <tr>\n",
       "      <th>262</th>\n",
       "      <td>Albania</td>\n",
       "      <td>2010</td>\n",
       "      <td>female</td>\n",
       "      <td>5-14 years</td>\n",
       "      <td>2</td>\n",
       "      <td>223969</td>\n",
       "      <td>0.89</td>\n",
       "      <td>Albania2010</td>\n",
       "      <td>11,926,953,259</td>\n",
       "      <td>4359</td>\n",
       "      <td>Generation Z</td>\n",
       "    </tr>\n",
       "    <tr>\n",
       "      <th>263</th>\n",
       "      <td>Albania</td>\n",
       "      <td>2010</td>\n",
       "      <td>male</td>\n",
       "      <td>5-14 years</td>\n",
       "      <td>0</td>\n",
       "      <td>240939</td>\n",
       "      <td>0.00</td>\n",
       "      <td>Albania2010</td>\n",
       "      <td>11,926,953,259</td>\n",
       "      <td>4359</td>\n",
       "      <td>Generation Z</td>\n",
       "    </tr>\n",
       "  </tbody>\n",
       "</table>\n",
       "<p>264 rows × 11 columns</p>\n",
       "</div>"
      ],
      "text/plain": [
       "     country  year     sex          age  suicides_no  population  \\\n",
       "0    Albania  1987    male  15-24 years           21      312900   \n",
       "1    Albania  1987    male  35-54 years           16      308000   \n",
       "2    Albania  1987  female  15-24 years           14      289700   \n",
       "3    Albania  1987    male    75+ years            1       21800   \n",
       "4    Albania  1987    male  25-34 years            9      274300   \n",
       "..       ...   ...     ...          ...          ...         ...   \n",
       "259  Albania  2010  female  35-54 years           12      394593   \n",
       "260  Albania  2010  female  55-74 years            7      241491   \n",
       "261  Albania  2010  female  15-24 years            6      263581   \n",
       "262  Albania  2010  female   5-14 years            2      223969   \n",
       "263  Albania  2010    male   5-14 years            0      240939   \n",
       "\n",
       "     suicides/100k pop country-year  gdp_for_year ($)   gdp_per_capita ($)  \\\n",
       "0                 6.71  Albania1987      2,156,624,900                 796   \n",
       "1                 5.19  Albania1987      2,156,624,900                 796   \n",
       "2                 4.83  Albania1987      2,156,624,900                 796   \n",
       "3                 4.59  Albania1987      2,156,624,900                 796   \n",
       "4                 3.28  Albania1987      2,156,624,900                 796   \n",
       "..                 ...          ...                ...                 ...   \n",
       "259               3.04  Albania2010     11,926,953,259                4359   \n",
       "260               2.90  Albania2010     11,926,953,259                4359   \n",
       "261               2.28  Albania2010     11,926,953,259                4359   \n",
       "262               0.89  Albania2010     11,926,953,259                4359   \n",
       "263               0.00  Albania2010     11,926,953,259                4359   \n",
       "\n",
       "          generation  \n",
       "0       Generation X  \n",
       "1             Silent  \n",
       "2       Generation X  \n",
       "3    G.I. Generation  \n",
       "4            Boomers  \n",
       "..               ...  \n",
       "259     Generation X  \n",
       "260           Silent  \n",
       "261       Millenials  \n",
       "262     Generation Z  \n",
       "263     Generation Z  \n",
       "\n",
       "[264 rows x 11 columns]"
      ]
     },
     "execution_count": 14,
     "metadata": {},
     "output_type": "execute_result"
    }
   ],
   "source": [
    "suicide_data_albania"
   ]
  },
  {
   "cell_type": "code",
   "execution_count": 15,
   "id": "abandoned-forth",
   "metadata": {
    "execution": {
     "iopub.execute_input": "2021-06-07T07:31:00.888772Z",
     "iopub.status.busy": "2021-06-07T07:31:00.887984Z",
     "iopub.status.idle": "2021-06-07T07:31:01.322825Z",
     "shell.execute_reply": "2021-06-07T07:31:01.323307Z",
     "shell.execute_reply.started": "2021-06-07T07:03:24.737706Z"
    },
    "papermill": {
     "duration": 0.475074,
     "end_time": "2021-06-07T07:31:01.323476",
     "exception": false,
     "start_time": "2021-06-07T07:31:00.848402",
     "status": "completed"
    },
    "tags": []
   },
   "outputs": [
    {
     "data": {
      "text/plain": [
       "<AxesSubplot:>"
      ]
     },
     "execution_count": 15,
     "metadata": {},
     "output_type": "execute_result"
    },
    {
     "data": {
      "image/png": "[encoded data removed]",
      "text/plain": [
       "<Figure size 432x288 with 1 Axes>"
      ]
     },
     "metadata": {
      "needs_background": "light"
     },
     "output_type": "display_data"
    }
   ],
   "source": [
    "# I will find a trend line for suicide in Albania\n",
    "sns.lineplot(data=suicide_data_albania)"
   ]
  },
  {
   "cell_type": "code",
   "execution_count": 16,
   "id": "brave-archive",
   "metadata": {
    "execution": {
     "iopub.execute_input": "2021-06-07T07:31:01.403146Z",
     "iopub.status.busy": "2021-06-07T07:31:01.402513Z",
     "iopub.status.idle": "2021-06-07T07:31:01.587651Z",
     "shell.execute_reply": "2021-06-07T07:31:01.588123Z",
     "shell.execute_reply.started": "2021-06-07T07:03:25.142645Z"
    },
    "papermill": {
     "duration": 0.226634,
     "end_time": "2021-06-07T07:31:01.588322",
     "exception": false,
     "start_time": "2021-06-07T07:31:01.361688",
     "status": "completed"
    },
    "tags": []
   },
   "outputs": [
    {
     "data": {
      "text/plain": [
       "<AxesSubplot:ylabel='year'>"
      ]
     },
     "execution_count": 16,
     "metadata": {},
     "output_type": "execute_result"
    },
    {
     "data": {
      "image/png": "[encoded data removed]",
      "text/plain": [
       "<Figure size 432x288 with 1 Axes>"
      ]
     },
     "metadata": {
      "needs_background": "light"
     },
     "output_type": "display_data"
    }
   ],
   "source": [
    "#if we plotting every column, we cannot find any insigts at all and it is very messy.\n",
    "\n",
    "sns.lineplot(data=suicide_data_albania[\"year\"],  label=\"Total Suicide\")"
   ]
  },
  {
   "cell_type": "code",
   "execution_count": 17,
   "id": "backed-plane",
   "metadata": {
    "execution": {
     "iopub.execute_input": "2021-06-07T07:31:01.670169Z",
     "iopub.status.busy": "2021-06-07T07:31:01.669410Z",
     "iopub.status.idle": "2021-06-07T07:31:01.766085Z",
     "shell.execute_reply": "2021-06-07T07:31:01.765550Z",
     "shell.execute_reply.started": "2021-06-07T07:03:25.338142Z"
    },
    "papermill": {
     "duration": 0.13846,
     "end_time": "2021-06-07T07:31:01.766231",
     "exception": false,
     "start_time": "2021-06-07T07:31:01.627771",
     "status": "completed"
    },
    "tags": []
   },
   "outputs": [
    {
     "ename": "NameError",
     "evalue": "name 'np' is not defined",
     "output_type": "error",
     "traceback": [
      "\u001b[0;31m---------------------------------------------------------------------------\u001b[0m",
      "\u001b[0;31mNameError\u001b[0m                                 Traceback (most recent call last)",
      "\u001b[0;32m<ipython-input-17-66a74d54d619>\u001b[0m in \u001b[0;36m<module>\u001b[0;34m\u001b[0m\n\u001b[0;32m----> 1\u001b[0;31m \u001b[0mnp\u001b[0m\u001b[0;34m.\u001b[0m\u001b[0msum\u001b[0m\u001b[0;34m(\u001b[0m\u001b[0msuicide_data_albania\u001b[0m\u001b[0;34m[\u001b[0m\u001b[0;34m'suicides_no'\u001b[0m\u001b[0;34m]\u001b[0m\u001b[0;34m)\u001b[0m\u001b[0;34m\u001b[0m\u001b[0;34m\u001b[0m\u001b[0m\n\u001b[0m",
      "\u001b[0;31mNameError\u001b[0m: name 'np' is not defined"
     ]
    }
   ],
   "source": [
    "np.sum(suicide_data_albania['suicides_no'])"
   ]
  },
  {
   "cell_type": "code",
   "execution_count": 18,
   "id": "theoretical-irrigation",
   "metadata": {
    "execution": {
     "iopub.execute_input": "2021-06-07T07:31:01.853234Z",
     "iopub.status.busy": "2021-06-07T07:31:01.852160Z",
     "iopub.status.idle": "2021-06-07T07:31:01.854971Z",
     "shell.execute_reply": "2021-06-07T07:31:01.854467Z",
     "shell.execute_reply.started": "2021-06-07T07:03:25.348650Z"
    },
    "papermill": {
     "duration": 0.049375,
     "end_time": "2021-06-07T07:31:01.855108",
     "exception": false,
     "start_time": "2021-06-07T07:31:01.805733",
     "status": "completed"
    },
    "tags": []
   },
   "outputs": [],
   "source": [
    "sda1 = suicide_data_albania.iloc[:,[1,4]]"
   ]
  },
  {
   "cell_type": "code",
   "execution_count": 19,
   "id": "severe-tension",
   "metadata": {
    "execution": {
     "iopub.execute_input": "2021-06-07T07:31:01.943907Z",
     "iopub.status.busy": "2021-06-07T07:31:01.943224Z",
     "iopub.status.idle": "2021-06-07T07:31:01.945895Z",
     "shell.execute_reply": "2021-06-07T07:31:01.946446Z",
     "shell.execute_reply.started": "2021-06-07T07:03:25.361085Z"
    },
    "papermill": {
     "duration": 0.052141,
     "end_time": "2021-06-07T07:31:01.946629",
     "exception": false,
     "start_time": "2021-06-07T07:31:01.894488",
     "status": "completed"
    },
    "tags": []
   },
   "outputs": [
    {
     "data": {
      "text/html": [
       "<div>\n",
       "<style scoped>\n",
       "    .dataframe tbody tr th:only-of-type {\n",
       "        vertical-align: middle;\n",
       "    }\n",
       "\n",
       "    .dataframe tbody tr th {\n",
       "        vertical-align: top;\n",
       "    }\n",
       "\n",
       "    .dataframe thead th {\n",
       "        text-align: right;\n",
       "    }\n",
       "</style>\n",
       "<table border=\"1\" class=\"dataframe\">\n",
       "  <thead>\n",
       "    <tr style=\"text-align: right;\">\n",
       "      <th></th>\n",
       "      <th>year</th>\n",
       "      <th>suicides_no</th>\n",
       "    </tr>\n",
       "  </thead>\n",
       "  <tbody>\n",
       "    <tr>\n",
       "      <th>0</th>\n",
       "      <td>1987</td>\n",
       "      <td>21</td>\n",
       "    </tr>\n",
       "    <tr>\n",
       "      <th>1</th>\n",
       "      <td>1987</td>\n",
       "      <td>16</td>\n",
       "    </tr>\n",
       "    <tr>\n",
       "      <th>2</th>\n",
       "      <td>1987</td>\n",
       "      <td>14</td>\n",
       "    </tr>\n",
       "    <tr>\n",
       "      <th>3</th>\n",
       "      <td>1987</td>\n",
       "      <td>1</td>\n",
       "    </tr>\n",
       "    <tr>\n",
       "      <th>4</th>\n",
       "      <td>1987</td>\n",
       "      <td>9</td>\n",
       "    </tr>\n",
       "    <tr>\n",
       "      <th>...</th>\n",
       "      <td>...</td>\n",
       "      <td>...</td>\n",
       "    </tr>\n",
       "    <tr>\n",
       "      <th>259</th>\n",
       "      <td>2010</td>\n",
       "      <td>12</td>\n",
       "    </tr>\n",
       "    <tr>\n",
       "      <th>260</th>\n",
       "      <td>2010</td>\n",
       "      <td>7</td>\n",
       "    </tr>\n",
       "    <tr>\n",
       "      <th>261</th>\n",
       "      <td>2010</td>\n",
       "      <td>6</td>\n",
       "    </tr>\n",
       "    <tr>\n",
       "      <th>262</th>\n",
       "      <td>2010</td>\n",
       "      <td>2</td>\n",
       "    </tr>\n",
       "    <tr>\n",
       "      <th>263</th>\n",
       "      <td>2010</td>\n",
       "      <td>0</td>\n",
       "    </tr>\n",
       "  </tbody>\n",
       "</table>\n",
       "<p>264 rows × 2 columns</p>\n",
       "</div>"
      ],
      "text/plain": [
       "     year  suicides_no\n",
       "0    1987           21\n",
       "1    1987           16\n",
       "2    1987           14\n",
       "3    1987            1\n",
       "4    1987            9\n",
       "..    ...          ...\n",
       "259  2010           12\n",
       "260  2010            7\n",
       "261  2010            6\n",
       "262  2010            2\n",
       "263  2010            0\n",
       "\n",
       "[264 rows x 2 columns]"
      ]
     },
     "execution_count": 19,
     "metadata": {},
     "output_type": "execute_result"
    }
   ],
   "source": [
    "sda1"
   ]
  },
  {
   "cell_type": "code",
   "execution_count": 20,
   "id": "sharing-south",
   "metadata": {
    "execution": {
     "iopub.execute_input": "2021-06-07T07:31:02.029848Z",
     "iopub.status.busy": "2021-06-07T07:31:02.029141Z",
     "iopub.status.idle": "2021-06-07T07:31:02.942397Z",
     "shell.execute_reply": "2021-06-07T07:31:02.941756Z",
     "shell.execute_reply.started": "2021-06-07T07:03:25.384011Z"
    },
    "papermill": {
     "duration": 0.956081,
     "end_time": "2021-06-07T07:31:02.942535",
     "exception": false,
     "start_time": "2021-06-07T07:31:01.986454",
     "status": "completed"
    },
    "tags": []
   },
   "outputs": [
    {
     "data": {
      "text/plain": [
       "<AxesSubplot:xlabel='year', ylabel='suicides_no'>"
      ]
     },
     "execution_count": 20,
     "metadata": {},
     "output_type": "execute_result"
    },
    {
     "data": {
      "image/png": "[encoded data removed]",
      "text/plain": [
       "<Figure size 432x288 with 1 Axes>"
      ]
     },
     "metadata": {
      "needs_background": "light"
     },
     "output_type": "display_data"
    }
   ],
   "source": [
    "sns.lineplot(data=sda1, x=\"year\", y=\"suicides_no\")"
   ]
  },
  {
   "cell_type": "markdown",
   "id": "informational-living",
   "metadata": {
    "papermill": {
     "duration": 0.042503,
     "end_time": "2021-06-07T07:31:03.026083",
     "exception": false,
     "start_time": "2021-06-07T07:31:02.983580",
     "status": "completed"
    },
    "tags": []
   },
   "source": [
    "The highest rate of suicide is within 1995 - 2000.\n",
    "\n",
    "During this time a lot of people intend to commit suicide in Albania and it may happen because of several reason. All of this reason need to be find out after this.\n"
   ]
  },
  {
   "cell_type": "code",
   "execution_count": 21,
   "id": "south-windsor",
   "metadata": {
    "execution": {
     "iopub.execute_input": "2021-06-07T07:31:03.120200Z",
     "iopub.status.busy": "2021-06-07T07:31:03.119147Z",
     "iopub.status.idle": "2021-06-07T07:31:04.356690Z",
     "shell.execute_reply": "2021-06-07T07:31:04.356065Z",
     "shell.execute_reply.started": "2021-06-07T07:03:26.225924Z"
    },
    "papermill": {
     "duration": 1.288684,
     "end_time": "2021-06-07T07:31:04.356841",
     "exception": false,
     "start_time": "2021-06-07T07:31:03.068157",
     "status": "completed"
    },
    "tags": []
   },
   "outputs": [
    {
     "data": {
      "text/plain": [
       "<AxesSubplot:xlabel='year', ylabel='suicides_no'>"
      ]
     },
     "execution_count": 21,
     "metadata": {},
     "output_type": "execute_result"
    },
    {
     "data": {
      "image/png": "[encoded data removed]",
      "text/plain": [
       "<Figure size 936x576 with 1 Axes>"
      ]
     },
     "metadata": {
      "needs_background": "light"
     },
     "output_type": "display_data"
    }
   ],
   "source": [
    "plt.figure(figsize=(13,8))\n",
    "\n",
    "sns.barplot(data=suicide_data_albania, x=\"year\", y=\"suicides_no\")"
   ]
  },
  {
   "cell_type": "markdown",
   "id": "different-privilege",
   "metadata": {
    "papermill": {
     "duration": 0.041962,
     "end_time": "2021-06-07T07:31:04.441041",
     "exception": false,
     "start_time": "2021-06-07T07:31:04.399079",
     "status": "completed"
    },
    "tags": []
   },
   "source": [
    "Suprisingly no suicide on 2005,2006 and 2009.\n",
    "\n",
    "After visualize so many things now i want to gather some input from machine laerning in order for me to get more understanding on this pattern."
   ]
  },
  {
   "cell_type": "code",
   "execution_count": 22,
   "id": "elegant-somalia",
   "metadata": {
    "execution": {
     "iopub.execute_input": "2021-06-07T07:31:04.559283Z",
     "iopub.status.busy": "2021-06-07T07:31:04.552575Z",
     "iopub.status.idle": "2021-06-07T07:31:04.715970Z",
     "shell.execute_reply": "2021-06-07T07:31:04.715301Z",
     "shell.execute_reply.started": "2021-06-07T07:03:27.240829Z"
    },
    "papermill": {
     "duration": 0.232586,
     "end_time": "2021-06-07T07:31:04.716109",
     "exception": false,
     "start_time": "2021-06-07T07:31:04.483523",
     "status": "completed"
    },
    "tags": []
   },
   "outputs": [
    {
     "data": {
      "image/png": "[encoded data removed]",
      "text/plain": [
       "<Figure size 432x288 with 1 Axes>"
      ]
     },
     "metadata": {
      "needs_background": "light"
     },
     "output_type": "display_data"
    }
   ],
   "source": [
    "suicide_data_albania.plot.scatter(x='year',y='suicides_no',c='DarkBlue')\n",
    "plt.show()"
   ]
  },
  {
   "cell_type": "code",
   "execution_count": 23,
   "id": "willing-kidney",
   "metadata": {
    "execution": {
     "iopub.execute_input": "2021-06-07T07:31:04.826908Z",
     "iopub.status.busy": "2021-06-07T07:31:04.807371Z",
     "iopub.status.idle": "2021-06-07T07:31:20.551502Z",
     "shell.execute_reply": "2021-06-07T07:31:20.550442Z",
     "shell.execute_reply.started": "2021-06-07T07:03:27.427812Z"
    },
    "papermill": {
     "duration": 15.792313,
     "end_time": "2021-06-07T07:31:20.551768",
     "exception": false,
     "start_time": "2021-06-07T07:31:04.759455",
     "status": "completed"
    },
    "tags": []
   },
   "outputs": [
    {
     "name": "stdout",
     "output_type": "stream",
     "text": [
      "Requirement already satisfied: scikit-learn in /opt/conda/lib/python3.7/site-packages (0.24.1)\r\n",
      "Collecting scikit-learn\r\n",
      "  Downloading scikit_learn-0.24.2-cp37-cp37m-manylinux2010_x86_64.whl (22.3 MB)\r\n",
      "\u001b[K     |████████████████████████████████| 22.3 MB 15.9 MB/s \r\n",
      "\u001b[?25hRequirement already satisfied: joblib>=0.11 in /opt/conda/lib/python3.7/site-packages (from scikit-learn) (1.0.1)\r\n",
      "Requirement already satisfied: scipy>=0.19.1 in /opt/conda/lib/python3.7/site-packages (from scikit-learn) (1.5.4)\r\n",
      "Requirement already satisfied: threadpoolctl>=2.0.0 in /opt/conda/lib/python3.7/site-packages (from scikit-learn) (2.1.0)\r\n",
      "Requirement already satisfied: numpy>=1.13.3 in /opt/conda/lib/python3.7/site-packages (from scikit-learn) (1.19.5)\r\n",
      "Installing collected packages: scikit-learn\r\n",
      "  Attempting uninstall: scikit-learn\r\n",
      "    Found existing installation: scikit-learn 0.24.1\r\n",
      "    Uninstalling scikit-learn-0.24.1:\r\n",
      "      Successfully uninstalled scikit-learn-0.24.1\r\n",
      "\u001b[31mERROR: pip's dependency resolver does not currently take into account all the packages that are installed. This behaviour is the source of the following dependency conflicts.\r\n",
      "pyldavis 3.3.1 requires numpy>=1.20.0, but you have numpy 1.19.5 which is incompatible.\r\n",
      "pdpbox 0.2.1 requires matplotlib==3.1.1, but you have matplotlib 3.4.1 which is incompatible.\u001b[0m\r\n",
      "Successfully installed scikit-learn-0.24.2\r\n",
      "Note: you may need to restart the kernel to use updated packages.\n"
     ]
    }
   ],
   "source": [
    "pip install -U scikit-learn"
   ]
  },
  {
   "cell_type": "code",
   "execution_count": 24,
   "id": "narrow-blind",
   "metadata": {
    "execution": {
     "iopub.execute_input": "2021-06-07T07:31:20.699588Z",
     "iopub.status.busy": "2021-06-07T07:31:20.698638Z",
     "iopub.status.idle": "2021-06-07T07:31:20.702941Z",
     "shell.execute_reply": "2021-06-07T07:31:20.702429Z",
     "shell.execute_reply.started": "2021-06-07T07:09:38.737474Z"
    },
    "papermill": {
     "duration": 0.083138,
     "end_time": "2021-06-07T07:31:20.703082",
     "exception": false,
     "start_time": "2021-06-07T07:31:20.619944",
     "status": "completed"
    },
    "tags": []
   },
   "outputs": [
    {
     "data": {
      "text/html": [
       "<div>\n",
       "<style scoped>\n",
       "    .dataframe tbody tr th:only-of-type {\n",
       "        vertical-align: middle;\n",
       "    }\n",
       "\n",
       "    .dataframe tbody tr th {\n",
       "        vertical-align: top;\n",
       "    }\n",
       "\n",
       "    .dataframe thead th {\n",
       "        text-align: right;\n",
       "    }\n",
       "</style>\n",
       "<table border=\"1\" class=\"dataframe\">\n",
       "  <thead>\n",
       "    <tr style=\"text-align: right;\">\n",
       "      <th></th>\n",
       "      <th>year</th>\n",
       "      <th>suicides_no</th>\n",
       "    </tr>\n",
       "  </thead>\n",
       "  <tbody>\n",
       "    <tr>\n",
       "      <th>0</th>\n",
       "      <td>1987</td>\n",
       "      <td>21</td>\n",
       "    </tr>\n",
       "    <tr>\n",
       "      <th>1</th>\n",
       "      <td>1987</td>\n",
       "      <td>16</td>\n",
       "    </tr>\n",
       "    <tr>\n",
       "      <th>2</th>\n",
       "      <td>1987</td>\n",
       "      <td>14</td>\n",
       "    </tr>\n",
       "    <tr>\n",
       "      <th>3</th>\n",
       "      <td>1987</td>\n",
       "      <td>1</td>\n",
       "    </tr>\n",
       "    <tr>\n",
       "      <th>4</th>\n",
       "      <td>1987</td>\n",
       "      <td>9</td>\n",
       "    </tr>\n",
       "    <tr>\n",
       "      <th>...</th>\n",
       "      <td>...</td>\n",
       "      <td>...</td>\n",
       "    </tr>\n",
       "    <tr>\n",
       "      <th>259</th>\n",
       "      <td>2010</td>\n",
       "      <td>12</td>\n",
       "    </tr>\n",
       "    <tr>\n",
       "      <th>260</th>\n",
       "      <td>2010</td>\n",
       "      <td>7</td>\n",
       "    </tr>\n",
       "    <tr>\n",
       "      <th>261</th>\n",
       "      <td>2010</td>\n",
       "      <td>6</td>\n",
       "    </tr>\n",
       "    <tr>\n",
       "      <th>262</th>\n",
       "      <td>2010</td>\n",
       "      <td>2</td>\n",
       "    </tr>\n",
       "    <tr>\n",
       "      <th>263</th>\n",
       "      <td>2010</td>\n",
       "      <td>0</td>\n",
       "    </tr>\n",
       "  </tbody>\n",
       "</table>\n",
       "<p>264 rows × 2 columns</p>\n",
       "</div>"
      ],
      "text/plain": [
       "     year  suicides_no\n",
       "0    1987           21\n",
       "1    1987           16\n",
       "2    1987           14\n",
       "3    1987            1\n",
       "4    1987            9\n",
       "..    ...          ...\n",
       "259  2010           12\n",
       "260  2010            7\n",
       "261  2010            6\n",
       "262  2010            2\n",
       "263  2010            0\n",
       "\n",
       "[264 rows x 2 columns]"
      ]
     },
     "execution_count": 24,
     "metadata": {},
     "output_type": "execute_result"
    }
   ],
   "source": [
    "sda1"
   ]
  },
  {
   "cell_type": "markdown",
   "id": "opened-cooler",
   "metadata": {
    "papermill": {
     "duration": 0.068452,
     "end_time": "2021-06-07T07:31:20.838310",
     "exception": false,
     "start_time": "2021-06-07T07:31:20.769858",
     "status": "completed"
    },
    "tags": []
   },
   "source": [
    "# Regression models to predict suicide for 2011\n"
   ]
  },
  {
   "cell_type": "code",
   "execution_count": 25,
   "id": "interesting-belfast",
   "metadata": {
    "execution": {
     "iopub.execute_input": "2021-06-07T07:31:20.980755Z",
     "iopub.status.busy": "2021-06-07T07:31:20.980070Z",
     "iopub.status.idle": "2021-06-07T07:31:21.165291Z",
     "shell.execute_reply": "2021-06-07T07:31:21.164714Z",
     "shell.execute_reply.started": "2021-06-07T07:06:46.887224Z"
    },
    "papermill": {
     "duration": 0.258497,
     "end_time": "2021-06-07T07:31:21.165429",
     "exception": false,
     "start_time": "2021-06-07T07:31:20.906932",
     "status": "completed"
    },
    "tags": []
   },
   "outputs": [],
   "source": [
    "#import libraries\n",
    "import numpy as np\n",
    "from sklearn import datasets, linear_model\n",
    "from sklearn.metrics import mean_squared_error, r2_score\n",
    "\n",
    "#import dataset\n",
    "\n",
    "x=sda1.iloc[:,0].values\n",
    "y=sda1.iloc[:,1].values"
   ]
  },
  {
   "cell_type": "code",
   "execution_count": 26,
   "id": "absent-summer",
   "metadata": {
    "execution": {
     "iopub.execute_input": "2021-06-07T07:31:21.327341Z",
     "iopub.status.busy": "2021-06-07T07:31:21.326059Z",
     "iopub.status.idle": "2021-06-07T07:31:21.332437Z",
     "shell.execute_reply": "2021-06-07T07:31:21.331888Z",
     "shell.execute_reply.started": "2021-06-07T07:11:45.316196Z"
    },
    "papermill": {
     "duration": 0.099095,
     "end_time": "2021-06-07T07:31:21.332628",
     "exception": false,
     "start_time": "2021-06-07T07:31:21.233533",
     "status": "completed"
    },
    "tags": []
   },
   "outputs": [
    {
     "data": {
      "text/plain": [
       "LinearRegression()"
      ]
     },
     "execution_count": 26,
     "metadata": {},
     "output_type": "execute_result"
    }
   ],
   "source": [
    "#splitting the dataset into training and test sets\n",
    "from sklearn.model_selection import train_test_split\n",
    "x_train, x_test, y_train, y_test = train_test_split(x, y, test_size = 0.2, random_state = 0)\n",
    "\n",
    "#Fitting simple linear regression to training set\n",
    "from sklearn.linear_model import LinearRegression\n",
    "regressor=LinearRegression()\n",
    "regressor.fit(x.reshape(-1, 1), y)"
   ]
  },
  {
   "cell_type": "code",
   "execution_count": 27,
   "id": "capable-uncle",
   "metadata": {
    "execution": {
     "iopub.execute_input": "2021-06-07T07:31:21.480002Z",
     "iopub.status.busy": "2021-06-07T07:31:21.479326Z",
     "iopub.status.idle": "2021-06-07T07:31:21.482996Z",
     "shell.execute_reply": "2021-06-07T07:31:21.482112Z",
     "shell.execute_reply.started": "2021-06-07T07:12:57.267104Z"
    },
    "papermill": {
     "duration": 0.077042,
     "end_time": "2021-06-07T07:31:21.483197",
     "exception": false,
     "start_time": "2021-06-07T07:31:21.406155",
     "status": "completed"
    },
    "tags": []
   },
   "outputs": [
    {
     "name": "stdout",
     "output_type": "stream",
     "text": [
      "[7.49899476 7.35583862 7.92846319 6.87865148 7.68986962 7.68986962\n",
      " 7.16496377 7.92846319 7.59443219 7.59443219 7.88074447 7.54671348\n",
      " 7.92846319 7.11724505 7.78530705 7.21268248 7.16496377 7.40355734\n",
      " 7.45127605 7.64215091 7.59443219 7.45127605 7.83302576 6.87865148\n",
      " 7.45127605 7.54671348 7.73758833 7.11724505 7.92846319 7.26040119\n",
      " 7.73758833 7.9761819  7.64215091 7.35583862 6.97408891 7.35583862\n",
      " 7.78530705 7.45127605 6.9263702  7.73758833 7.26040119 7.49899476\n",
      " 6.87865148 6.9263702  7.78530705 7.26040119 6.9263702  7.40355734\n",
      " 7.40355734 7.26040119 7.30811991 7.68986962 7.88074447]\n"
     ]
    }
   ],
   "source": [
    "#Predicting the results for test set\n",
    "y_pred=regressor.predict(x_test.reshape(-1,1))\n",
    "print(y_pred)"
   ]
  },
  {
   "cell_type": "code",
   "execution_count": 28,
   "id": "emerging-pledge",
   "metadata": {
    "execution": {
     "iopub.execute_input": "2021-06-07T07:31:21.625592Z",
     "iopub.status.busy": "2021-06-07T07:31:21.624825Z",
     "iopub.status.idle": "2021-06-07T07:31:21.628133Z",
     "shell.execute_reply": "2021-06-07T07:31:21.628584Z",
     "shell.execute_reply.started": "2021-06-07T07:13:27.897493Z"
    },
    "papermill": {
     "duration": 0.076668,
     "end_time": "2021-06-07T07:31:21.628769",
     "exception": false,
     "start_time": "2021-06-07T07:31:21.552101",
     "status": "completed"
    },
    "tags": []
   },
   "outputs": [
    {
     "name": "stdout",
     "output_type": "stream",
     "text": [
      "[ 6 12  0  1 39 10  7  0 15  4  5  2  0  9  0  6  0 26 14  0 15  4 14  4\n",
      " 19  9  0  0  0  2  0  2 15 36  6  2  0 19  5  0  9  5  1  0  0  2  2 32\n",
      "  1 11  3 19 37]\n"
     ]
    }
   ],
   "source": [
    "print(y_test)"
   ]
  },
  {
   "cell_type": "code",
   "execution_count": 29,
   "id": "above-sharp",
   "metadata": {
    "execution": {
     "iopub.execute_input": "2021-06-07T07:31:21.771251Z",
     "iopub.status.busy": "2021-06-07T07:31:21.770464Z",
     "iopub.status.idle": "2021-06-07T07:31:21.775239Z",
     "shell.execute_reply": "2021-06-07T07:31:21.774716Z",
     "shell.execute_reply.started": "2021-06-07T07:25:31.790408Z"
    },
    "papermill": {
     "duration": 0.078408,
     "end_time": "2021-06-07T07:31:21.775385",
     "exception": false,
     "start_time": "2021-06-07T07:31:21.696977",
     "status": "completed"
    },
    "tags": []
   },
   "outputs": [
    {
     "name": "stdout",
     "output_type": "stream",
     "text": [
      "[8.40565033]\n"
     ]
    }
   ],
   "source": [
    "y_predict=regressor.predict([[2019]])\n",
    "print(y_predict)"
   ]
  },
  {
   "cell_type": "markdown",
   "id": "chubby-malaysia",
   "metadata": {
    "papermill": {
     "duration": 0.068674,
     "end_time": "2021-06-07T07:31:21.912931",
     "exception": false,
     "start_time": "2021-06-07T07:31:21.844257",
     "status": "completed"
    },
    "tags": []
   },
   "source": [
    "Accuracy model for linear regression that i just build are 89% and it is quite good.\n",
    "\n",
    "Based on prediction for 2019, model predict that Albania are going to have 8.40 people going to commit suicide and based on actual data that i check it is 7.50 ."
   ]
  },
  {
   "cell_type": "code",
   "execution_count": null,
   "id": "characteristic-probability",
   "metadata": {
    "papermill": {
     "duration": 0.069378,
     "end_time": "2021-06-07T07:31:22.050990",
     "exception": false,
     "start_time": "2021-06-07T07:31:21.981612",
     "status": "completed"
    },
    "tags": []
   },
   "outputs": [],
   "source": []
  }
 ],
 "metadata": {
  "kernelspec": {
   "display_name": "Python 3",
   "language": "python",
   "name": "python3"
  },
  "language_info": {
   "codemirror_mode": {
    "name": "ipython",
    "version": 3
   },
   "file_extension": ".py",
   "mimetype": "text/x-python",
   "name": "python",
   "nbconvert_exporter": "python",
   "pygments_lexer": "ipython3",
   "version": "3.7.10"
  },
  "papermill": {
   "default_parameters": {},
   "duration": 32.762916,
   "end_time": "2021-06-07T07:31:22.932338",
   "environment_variables": {},
   "exception": null,
   "input_path": "__notebook__.ipynb",
   "output_path": "__notebook__.ipynb",
   "parameters": {},
   "start_time": "2021-06-07T07:30:50.169422",
   "version": "2.3.3"
  }
 },
 "nbformat": 4,
 "nbformat_minor": 5
}
